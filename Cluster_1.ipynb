{
  "nbformat": 4,
  "nbformat_minor": 0,
  "metadata": {
    "colab": {
      "provenance": [],
      "authorship_tag": "ABX9TyN7KUcF+nZr76Uwk2aCjTth",
      "include_colab_link": true
    },
    "kernelspec": {
      "name": "python3",
      "display_name": "Python 3"
    },
    "language_info": {
      "name": "python"
    }
  },
  "cells": [
    {
      "cell_type": "markdown",
      "metadata": {
        "id": "view-in-github",
        "colab_type": "text"
      },
      "source": [
        "<a href=\"https://colab.research.google.com/github/Gulwalishah/Cluster-/blob/main/Cluster_1.ipynb\" target=\"_parent\"><img src=\"https://colab.research.google.com/assets/colab-badge.svg\" alt=\"Open In Colab\"/></a>"
      ]
    },
    {
      "cell_type": "code",
      "source": [
        "import numpy as np\n",
        "\n",
        "# Define the dataset\n",
        "data = np.array([[2, 3],\n",
        "                 [5, 4],\n",
        "                 [9, 6],\n",
        "                 [4, 7],\n",
        "                 [8, 1],\n",
        "                 [7, 2],\n",
        "                 [6, 5],\n",
        "                 [3, 4],\n",
        "                 [2, 9],\n",
        "                 [5, 7]])"
      ],
      "metadata": {
        "id": "U0m2MI9sdZBC"
      },
      "execution_count": 4,
      "outputs": []
    },
    {
      "cell_type": "code",
      "source": [
        "from sklearn.cluster import KMeans\n",
        "\n",
        "# Create an instance of the KMeans algorithm with 3 clusters\n",
        "kmeans = KMeans(n_clusters=3)\n",
        "\n",
        "# Fit the data to the algorithm\n",
        "kmeans.fit(data)\n",
        "\n",
        "# Get the cluster labels for each point\n",
        "labels = kmeans.labels_\n",
        "\n",
        "# Print the cluster labels\n",
        "print(labels)"
      ],
      "metadata": {
        "colab": {
          "base_uri": "https://localhost:8080/"
        },
        "id": "wLcevgiDdcnM",
        "outputId": "38c61f12-78d0-4d96-f4b6-188f529b06ea"
      },
      "execution_count": 5,
      "outputs": [
        {
          "output_type": "stream",
          "name": "stdout",
          "text": [
            "[2 2 0 1 0 0 0 2 1 1]\n"
          ]
        },
        {
          "output_type": "stream",
          "name": "stderr",
          "text": [
            "/usr/local/lib/python3.10/dist-packages/sklearn/cluster/_kmeans.py:870: FutureWarning: The default value of `n_init` will change from 10 to 'auto' in 1.4. Set the value of `n_init` explicitly to suppress the warning\n",
            "  warnings.warn(\n"
          ]
        }
      ]
    }
  ]
}